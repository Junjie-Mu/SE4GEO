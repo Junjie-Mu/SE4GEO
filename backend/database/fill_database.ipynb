{
 "cells": [
  {
   "metadata": {},
   "cell_type": "markdown",
   "source": "### Creat the new database \"se4g\"",
   "id": "a743dcfb89a8fadf"
  },
  {
   "metadata": {
    "ExecuteTime": {
     "end_time": "2024-06-22T18:52:37.575471Z",
     "start_time": "2024-06-22T18:52:37.070545Z"
    }
   },
   "cell_type": "code",
   "source": [
    "import os\n",
    "from dotenv import load_dotenv\n",
    "import psycopg2\n",
    "\n",
    "# Get info from .env file\n",
    "load_dotenv()\n",
    "db_name = os.getenv('DB_NAME')\n",
    "user = os.getenv('USER')\n",
    "password = os.getenv('PASSWORD')\n",
    "host = os.getenv('HOST')\n",
    "if not all([db_name, user, password, host]):\n",
    "    raise ValueError(\"Plz set environment variables in .env file\")\n",
    "\n",
    "# Connect to the default database\n",
    "conn = psycopg2.connect(dbname=\"postgres\", user=user, password=password, host=host)\n",
    "conn.autocommit = True\n",
    "cursor = conn.cursor()\n",
    "\n",
    "# Creat database\n",
    "try:\n",
    "    cursor.execute(f\"CREATE DATABASE {db_name};\")\n",
    "except: \n",
    "    pass\n",
    "\n",
    "conn.close()"
   ],
   "id": "18653054d902c55f",
   "outputs": [],
   "execution_count": 1
  },
  {
   "metadata": {},
   "cell_type": "markdown",
   "source": "",
   "id": "b9ad93a240d392e1"
  },
  {
   "metadata": {},
   "cell_type": "code",
   "outputs": [],
   "execution_count": null,
   "source": "",
   "id": "f2c653eab99893c5"
  }
 ],
 "metadata": {
  "kernelspec": {
   "display_name": "Python 3",
   "language": "python",
   "name": "python3"
  },
  "language_info": {
   "codemirror_mode": {
    "name": "ipython",
    "version": 2
   },
   "file_extension": ".py",
   "mimetype": "text/x-python",
   "name": "python",
   "nbconvert_exporter": "python",
   "pygments_lexer": "ipython2",
   "version": "2.7.6"
  }
 },
 "nbformat": 4,
 "nbformat_minor": 5
}
